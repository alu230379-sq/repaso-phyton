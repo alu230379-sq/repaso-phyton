{
  "nbformat": 4,
  "nbformat_minor": 0,
  "metadata": {
    "colab": {
      "provenance": [],
      "authorship_tag": "ABX9TyMJC0rxrVOwfs/SXrJqeyfq",
      "include_colab_link": true
    },
    "kernelspec": {
      "name": "python3",
      "display_name": "Python 3"
    },
    "language_info": {
      "name": "python"
    }
  },
  "cells": [
    {
      "cell_type": "markdown",
      "metadata": {
        "id": "view-in-github",
        "colab_type": "text"
      },
      "source": [
        "<a href=\"https://colab.research.google.com/github/alu230379-sq/repaso-phyton/blob/main/HectorATipynb.ipynb\" target=\"_parent\"><img src=\"https://colab.research.google.com/assets/colab-badge.svg\" alt=\"Open In Colab\"/></a>"
      ]
    },
    {
      "cell_type": "code",
      "execution_count": null,
      "metadata": {
        "id": "-ze5bgzkz7PD"
      },
      "outputs": [],
      "source": []
    },
    {
      "cell_type": "markdown",
      "source": [
        "progrma 1 en phyton para imprimir mi nombre con hola mundo"
      ],
      "metadata": {
        "id": "_6CEibwH0Rbh"
      }
    },
    {
      "cell_type": "code",
      "source": [
        "print (\"Hola Mundo\")\n",
        "nombre=(input(\"Captura tu nombre\"))\n",
        "print(nombre)"
      ],
      "metadata": {
        "colab": {
          "base_uri": "https://localhost:8080/"
        },
        "id": "0nQcPnjv0d0V",
        "outputId": "d8a082c5-5e7d-446d-91a3-8b86819d4aef"
      },
      "execution_count": 2,
      "outputs": [
        {
          "output_type": "stream",
          "name": "stdout",
          "text": [
            "Hola Mundo\n",
            "Captura tu nombrehector\n",
            "hector\n"
          ]
        }
      ]
    },
    {
      "cell_type": "markdown",
      "source": [
        "Programa 2 capturar tu nombre, paterno y materno e imprimirlo en pantalla"
      ],
      "metadata": {
        "id": "uPXh8lTQ1ZQU"
      }
    },
    {
      "cell_type": "code",
      "source": [
        "nombre=(input(\"Captura tu nombre \"))\n",
        "app=(input(\"Captura tu apellido paterno \"))\n",
        "apm=(input(\"Captura tu apellido materno \"))\n",
        "print(nombre, app, apm)"
      ],
      "metadata": {
        "colab": {
          "base_uri": "https://localhost:8080/"
        },
        "id": "L73HzXhB1iOc",
        "outputId": "5b925a54-cf32-48a2-b8db-674171b68c21"
      },
      "execution_count": 4,
      "outputs": [
        {
          "output_type": "stream",
          "name": "stdout",
          "text": [
            "Captura tu nombre Hector\n",
            "Captura tu apellido paterno Armendariz\n",
            "Captura tu apellido materno Talamantes\n",
            "Hector Armendariz Talamantes\n"
          ]
        }
      ]
    }
  ]
}