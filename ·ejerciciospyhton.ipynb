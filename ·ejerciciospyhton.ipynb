{
  "nbformat": 4,
  "nbformat_minor": 0,
  "metadata": {
    "colab": {
      "provenance": [],
      "authorship_tag": "ABX9TyM2Si2CbARro/FGzB6h4aXq",
      "include_colab_link": true
    },
    "kernelspec": {
      "name": "python3",
      "display_name": "Python 3"
    },
    "language_info": {
      "name": "python"
    }
  },
  "cells": [
    {
      "cell_type": "markdown",
      "metadata": {
        "id": "view-in-github",
        "colab_type": "text"
      },
      "source": [
        "<a href=\"https://colab.research.google.com/github/alu230379-sq/repaso-phyton/blob/main/%C2%B7ejerciciospyhton.ipynb\" target=\"_parent\"><img src=\"https://colab.research.google.com/assets/colab-badge.svg\" alt=\"Open In Colab\"/></a>"
      ]
    },
    {
      "cell_type": "code",
      "execution_count": null,
      "metadata": {
        "id": "r3yKGUFi5MzC"
      },
      "outputs": [],
      "source": []
    },
    {
      "cell_type": "code",
      "source": [],
      "metadata": {
        "id": "CzT5mf826mvb"
      },
      "execution_count": null,
      "outputs": []
    },
    {
      "cell_type": "markdown",
      "source": [
        "ejercicios a desarrollar en colab con github\n",
        "1- REALIZAR UN PROGRAMA EN PHYTON QUE TE PERMITA CAPTURAR 2 NUMEROS ENTEROS E IMPRIMA LA SUMA, LA RESTA, LA MULTIPLICACION Y LA DIVISION DE AMBOS\n",
        "\n",
        "2- REALIZAR UN PROGRAMA EN PYTHON MEDIANTE EL CUAL CALCULES EL TOTAL DE CARACTERES QUE TIENE UN NOMBRE CAPTURADO DESDE EL TECLADO\n",
        "\n",
        "3-rEALIZAR UN PROGRAMA EN PYTHON QUE PERMITA LOS 7 DIAS DE LA SEMANA\n"
      ],
      "metadata": {
        "id": "JDy2ACLX5TUk"
      }
    },
    {
      "cell_type": "code",
      "source": [
        "n1 = int(input(\"Captura el primer numero \"))\n",
        "n2 = int(input(\"Captura el segundo numero \"))\n",
        "sum = n1 + n2\n",
        "res=n1-n2\n",
        "mul=n1*n2\n",
        "div=n1/n2\n",
        "print(\"La suma es: \", sum)\n",
        "print(\"La resta es: \", res)\n",
        "print(\"La multiplicacion es: \", mul)\n",
        "print(\"La division es: \", div)"
      ],
      "metadata": {
        "colab": {
          "base_uri": "https://localhost:8080/"
        },
        "id": "TDy7VSwj6rO4",
        "outputId": "2b7a64db-8f84-49a4-fb6a-d1059f2e7a4f"
      },
      "execution_count": 11,
      "outputs": [
        {
          "output_type": "stream",
          "name": "stdout",
          "text": [
            "Captura el primer numero 1\n",
            "Captura el segundo numero 2\n",
            "La suma es:  3\n",
            "La resta es:  -1\n",
            "La multiplicacion es:  2\n",
            "La division es:  0.5\n"
          ]
        }
      ]
    },
    {
      "cell_type": "code",
      "source": [
        "nombre=(input(\"Captura tu nombre \"))\n",
        "char_count=len(nombre)\n",
        "print(\"El total de caracteres en el nombre es: \", char_count)"
      ],
      "metadata": {
        "colab": {
          "base_uri": "https://localhost:8080/"
        },
        "id": "nKhbGNjj9bcb",
        "outputId": "cddfeb2f-32fd-46d0-d2e8-c1c1480127ee"
      },
      "execution_count": 12,
      "outputs": [
        {
          "output_type": "stream",
          "name": "stdout",
          "text": [
            "Captura tu nombre Hector\n",
            "El total de caracteres en el nombre es:  6\n"
          ]
        }
      ]
    },
    {
      "cell_type": "code",
      "source": [
        "d1=(input(\"Captura tu primer dia de la semana \"))\n",
        "d2=(input(\"Captura tu segundo dia de la semana \"))\n",
        "d3=(input(\"Captura tu tercer dia de la semana \"))\n",
        "d4=(input(\"Captura tu cuarto dia de la semana \"))\n",
        "d5=(input(\"Captura tu quinto dia de la semana \"))\n",
        "d6=(input(\"Captura tu sexto dia de la semana \"))\n",
        "d7=(input(\"Captura tu septimo dia de la semana \"))\n",
        "print(\"Los dias de la semana son: \", d1, d2, d3, d4, d5, d6, d7)"
      ],
      "metadata": {
        "colab": {
          "base_uri": "https://localhost:8080/"
        },
        "id": "uorWzahX-qgg",
        "outputId": "7b1ef82f-b42b-4cad-b470-a9ee5f78a8d9"
      },
      "execution_count": 14,
      "outputs": [
        {
          "output_type": "stream",
          "name": "stdout",
          "text": [
            "Captura tu primer dia de la semana lunes\n",
            "Captura tu segundo dia de la semana martes\n",
            "Captura tu tercer dia de la semana miercoles\n",
            "Captura tu cuarto dia de la semana jueves\n",
            "Captura tu quinto dia de la semana viernes\n",
            "Captura tu sexto dia de la semana sabado\n",
            "Captura tu septimo dia de la semana domingo\n",
            "Los dias de la semana son:  lunes martes miercoles jueves viernes sabado domingo\n"
          ]
        }
      ]
    }
  ]
}